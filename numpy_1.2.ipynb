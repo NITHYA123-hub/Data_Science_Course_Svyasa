{
 "cells": [
  {
   "cell_type": "code",
   "execution_count": 1,
   "id": "dc2b138a-d339-45ab-abe0-15f8e81daff0",
   "metadata": {},
   "outputs": [
    {
     "name": "stdout",
     "output_type": "stream",
     "text": [
      "Hello World!\n"
     ]
    }
   ],
   "source": [
    "print(\"Hello World!\")"
   ]
  },
  {
   "cell_type": "code",
   "execution_count": 8,
   "id": "5a76828d-90d5-49a4-8005-2e9c1220775f",
   "metadata": {},
   "outputs": [],
   "source": [
    "import numpy as np\n",
    "my_arr = np.arange(10_000_000)\n",
    "my_list = list(range(10_000_000))"
   ]
  },
  {
   "cell_type": "code",
   "execution_count": 9,
   "id": "9cc981dd-ca94-4d5b-81aa-d6b4fbd783be",
   "metadata": {},
   "outputs": [
    {
     "name": "stdout",
     "output_type": "stream",
     "text": [
      "59.4 ms ± 1.02 ms per loop (mean ± std. dev. of 7 runs, 10 loops each)\n"
     ]
    }
   ],
   "source": [
    "%timeit my_arr2 = my_arr*2"
   ]
  },
  {
   "cell_type": "code",
   "execution_count": 13,
   "id": "95ba08e8-8ce1-4340-972a-5cafdd10ea2d",
   "metadata": {},
   "outputs": [
    {
     "name": "stdout",
     "output_type": "stream",
     "text": [
      "1.68 s ± 150 ms per loop (mean ± std. dev. of 7 runs, 1 loop each)\n"
     ]
    }
   ],
   "source": [
    "%timeit my_list2 = [x*2 for x in my_list]"
   ]
  },
  {
   "cell_type": "code",
   "execution_count": 19,
   "id": "ba827897-2485-45ee-a343-8227c7662bfe",
   "metadata": {},
   "outputs": [
    {
     "data": {
      "text/plain": [
       "array([[ 1.5, -0.1,  3. ],\n",
       "       [ 0. , -3. ,  6.5]])"
      ]
     },
     "execution_count": 19,
     "metadata": {},
     "output_type": "execute_result"
    }
   ],
   "source": [
    "data1 = np.array([[1.5,-0.1,3],[0,-3,6.5]])\n",
    "data1"
   ]
  },
  {
   "cell_type": "code",
   "execution_count": 20,
   "id": "2479a4c9-ea97-46e8-8a66-8c28e486f151",
   "metadata": {},
   "outputs": [
    {
     "data": {
      "text/plain": [
       "array([[ 15.,  -1.,  30.],\n",
       "       [  0., -30.,  65.]])"
      ]
     },
     "execution_count": 20,
     "metadata": {},
     "output_type": "execute_result"
    }
   ],
   "source": [
    "data1*10"
   ]
  },
  {
   "cell_type": "code",
   "execution_count": 21,
   "id": "b7d3cdb0-e6eb-46ab-a9bf-ada6bf272f1b",
   "metadata": {},
   "outputs": [
    {
     "data": {
      "text/plain": [
       "array([[ 3. , -0.2,  6. ],\n",
       "       [ 0. , -6. , 13. ]])"
      ]
     },
     "execution_count": 21,
     "metadata": {},
     "output_type": "execute_result"
    }
   ],
   "source": [
    "data1+data"
   ]
  },
  {
   "cell_type": "code",
   "execution_count": 15,
   "id": "4a6dd993-f4b0-465b-9c29-ad0cb27d89c5",
   "metadata": {},
   "outputs": [
    {
     "data": {
      "text/plain": [
       "array([[0., 0., 0., 0.],\n",
       "       [0., 0., 0., 0.],\n",
       "       [0., 0., 0., 0.]])"
      ]
     },
     "execution_count": 15,
     "metadata": {},
     "output_type": "execute_result"
    }
   ],
   "source": [
    "a=np.zeros((3,4))\n",
    "a"
   ]
  },
  {
   "cell_type": "code",
   "execution_count": 16,
   "id": "6e19bb43-5ddc-4df2-b502-48b5635e950a",
   "metadata": {},
   "outputs": [
    {
     "data": {
      "text/plain": [
       "(3, 4)"
      ]
     },
     "execution_count": 16,
     "metadata": {},
     "output_type": "execute_result"
    }
   ],
   "source": [
    "a.shape"
   ]
  },
  {
   "cell_type": "code",
   "execution_count": 26,
   "id": "7ce753bc-9680-4a5d-9c01-88c83e046316",
   "metadata": {},
   "outputs": [
    {
     "data": {
      "text/plain": [
       "array([1. , 1.5, 2. , 2.5, 3. , 3.5, 4. , 4.5, 5. , 5.5])"
      ]
     },
     "execution_count": 26,
     "metadata": {},
     "output_type": "execute_result"
    }
   ],
   "source": [
    "np.arange(1,6,0.5)"
   ]
  },
  {
   "cell_type": "code",
   "execution_count": 35,
   "id": "55a50405-5f95-413b-83ee-b3b3ef1e2674",
   "metadata": {},
   "outputs": [
    {
     "data": {
      "text/plain": [
       "array([1.        , 1.44444444, 1.88888889, 2.33333333, 2.77777778,\n",
       "       3.22222222, 3.66666667, 4.11111111, 4.55555556, 5.        ])"
      ]
     },
     "execution_count": 35,
     "metadata": {},
     "output_type": "execute_result"
    }
   ],
   "source": [
    "np.linspace(1,5,10)"
   ]
  },
  {
   "cell_type": "code",
   "execution_count": 40,
   "id": "5f5f6930-f391-4e2e-a0bd-5a9d0bc8edc0",
   "metadata": {},
   "outputs": [
    {
     "data": {
      "text/plain": [
       "array([[-1.53, -0.43],\n",
       "       [ 0.48, -0.45]])"
      ]
     },
     "execution_count": 40,
     "metadata": {},
     "output_type": "execute_result"
    }
   ],
   "source": [
    "np.round(np.random.randn(2,2),2)"
   ]
  },
  {
   "cell_type": "code",
   "execution_count": 42,
   "id": "e3a95aa5-7fd6-49b1-b162-d901c5855868",
   "metadata": {},
   "outputs": [
    {
     "name": "stdout",
     "output_type": "stream",
     "text": [
      "[ 0  1  2  3  4  5  6  7  8  9 10 11 12 13 14 15 16 17 18 19 20 21 22 23]\n",
      "Rank: 1\n"
     ]
    }
   ],
   "source": [
    "g=np.arange(24)\n",
    "print(g)\n",
    "print(\"Rank:\",g.ndim)"
   ]
  },
  {
   "cell_type": "code",
   "execution_count": 43,
   "id": "91802c7e-749f-4317-b248-1cd73d2b76c0",
   "metadata": {},
   "outputs": [
    {
     "name": "stdout",
     "output_type": "stream",
     "text": [
      "[[ 0  1  2  3]\n",
      " [ 4  5  6  7]\n",
      " [ 8  9 10 11]\n",
      " [12 13 14 15]\n",
      " [16 17 18 19]\n",
      " [20 21 22 23]]\n",
      "Range: 2\n"
     ]
    }
   ],
   "source": [
    "g.shape=(6,4)\n",
    "print(g)\n",
    "print(\"Range:\",g.ndim)"
   ]
  },
  {
   "cell_type": "code",
   "execution_count": 44,
   "id": "1d26ab86-706a-4fdb-8beb-54a9ad231d2d",
   "metadata": {},
   "outputs": [
    {
     "name": "stdout",
     "output_type": "stream",
     "text": [
      "[[[ 0  1  2  3]\n",
      "  [ 4  5  6  7]\n",
      "  [ 8  9 10 11]]\n",
      "\n",
      " [[12 13 14 15]\n",
      "  [16 17 18 19]\n",
      "  [20 21 22 23]]]\n",
      "Rank: 3\n"
     ]
    }
   ],
   "source": [
    "g.shape=(2,3,4)\n",
    "print(g)\n",
    "print(\"Rank:\",g.ndim)"
   ]
  },
  {
   "cell_type": "code",
   "execution_count": 45,
   "id": "b58d65ec-ea7d-4cc5-8049-8b9a178459d7",
   "metadata": {},
   "outputs": [
    {
     "name": "stdout",
     "output_type": "stream",
     "text": [
      "a+b = [19 27 35 43]\n",
      "a-b = [ 9 19 29 39]\n",
      "a*b = [70 92 96 82]\n",
      "a/b = [ 2.8         5.75       10.66666667 20.5       ]\n",
      "a//b = [ 2  5 10 20]\n",
      "a%b = [4 3 2 1]\n",
      "a**b = [537824 279841  32768   1681]\n"
     ]
    }
   ],
   "source": [
    "a = np.array([14,23,32,41])\n",
    "b = np.array([5,4,3,2])\n",
    "print(\"a+b =\",a+b)\n",
    "print(\"a-b =\",a-b)\n",
    "print(\"a*b =\",a*b)\n",
    "print(\"a/b =\",a/b)\n",
    "print(\"a//b =\",a//b)\n",
    "print(\"a%b =\",a%b)\n",
    "print(\"a**b =\",a**b)"
   ]
  },
  {
   "cell_type": "code",
   "execution_count": 46,
   "id": "c08bc8d9-212b-459c-8ef2-751e3104c0cb",
   "metadata": {},
   "outputs": [
    {
     "data": {
      "text/plain": [
       "array([False,  True,  True, False])"
      ]
     },
     "execution_count": 46,
     "metadata": {},
     "output_type": "execute_result"
    }
   ],
   "source": [
    "m=np.array([20,-5,30,40])\n",
    "m<[15,16,35,36]"
   ]
  },
  {
   "cell_type": "code",
   "execution_count": 47,
   "id": "783f31e7-e4c7-48a2-99b4-116ecf26cd51",
   "metadata": {},
   "outputs": [
    {
     "data": {
      "text/plain": [
       "array([ True,  True, False, False])"
      ]
     },
     "execution_count": 47,
     "metadata": {},
     "output_type": "execute_result"
    }
   ],
   "source": [
    "m<25"
   ]
  },
  {
   "cell_type": "code",
   "execution_count": 48,
   "id": "2029e230-5b23-446d-850b-55ca706ec54e",
   "metadata": {},
   "outputs": [
    {
     "data": {
      "text/plain": [
       "array([20, -5])"
      ]
     },
     "execution_count": 48,
     "metadata": {},
     "output_type": "execute_result"
    }
   ],
   "source": [
    "m[m<25]"
   ]
  },
  {
   "cell_type": "code",
   "execution_count": 55,
   "id": "ead6a9ff-1a25-4cd4-bc34-9589e5e8e80b",
   "metadata": {},
   "outputs": [
    {
     "name": "stdout",
     "output_type": "stream",
     "text": [
      "[[-2.5  3.1  7. ]\n",
      " [10.  11.  12. ]]\n",
      "mean = [3.75 7.05 9.5 ]\n"
     ]
    }
   ],
   "source": [
    "a = np.array([[-2.5,3.1,7],[10,11,12]])\n",
    "print(a)\n",
    "print(\"mean =\",a.mean(0)) #for row wise we will give 1"
   ]
  },
  {
   "cell_type": "code",
   "execution_count": 60,
   "id": "04037c38-46bd-46aa-bf77-34bcf56530e0",
   "metadata": {},
   "outputs": [
    {
     "data": {
      "text/plain": [
       "array([ 1,  5,  3, 19, 13,  7,  3])"
      ]
     },
     "execution_count": 60,
     "metadata": {},
     "output_type": "execute_result"
    }
   ],
   "source": [
    "a = np.array([1,5,3,19,13,7,3])\n",
    "a"
   ]
  },
  {
   "cell_type": "code",
   "execution_count": 65,
   "id": "99dfd446-8789-450d-aaef-a118502b7bc4",
   "metadata": {},
   "outputs": [
    {
     "data": {
      "text/plain": [
       "array([ 3, 13,  3])"
      ]
     },
     "execution_count": 65,
     "metadata": {},
     "output_type": "execute_result"
    }
   ],
   "source": [
    "a[2::2]"
   ]
  },
  {
   "cell_type": "code",
   "execution_count": 64,
   "id": "4dbf6043-ab54-485d-a845-ab942a4f5ddf",
   "metadata": {},
   "outputs": [
    {
     "data": {
      "text/plain": [
       "array([  3,   7,  13, 999,   3,   5,   1])"
      ]
     },
     "execution_count": 64,
     "metadata": {},
     "output_type": "execute_result"
    }
   ],
   "source": [
    "a[::-1]"
   ]
  },
  {
   "cell_type": "code",
   "execution_count": 63,
   "id": "f8819f68-475b-4b92-afe1-bcc059824a55",
   "metadata": {},
   "outputs": [
    {
     "data": {
      "text/plain": [
       "array([  1,   5,   3, 999,  13,   7,   3])"
      ]
     },
     "execution_count": 63,
     "metadata": {},
     "output_type": "execute_result"
    }
   ],
   "source": [
    "a[3]=999\n",
    "a"
   ]
  },
  {
   "cell_type": "code",
   "execution_count": 66,
   "id": "95616a05-8f4e-4944-a207-8f937213a654",
   "metadata": {},
   "outputs": [],
   "source": [
    "import numpy as np"
   ]
  },
  {
   "cell_type": "code",
   "execution_count": 67,
   "id": "400c5826-dfc4-4242-9d4e-e89d9b1dda4c",
   "metadata": {},
   "outputs": [
    {
     "data": {
      "text/plain": [
       "array([[0, 1, 2, 3, 4],\n",
       "       [5, 6, 7, 8, 9]])"
      ]
     },
     "execution_count": 67,
     "metadata": {},
     "output_type": "execute_result"
    }
   ],
   "source": [
    "m1 = np.arange(10).reshape(2,5)\n",
    "m1"
   ]
  },
  {
   "cell_type": "code",
   "execution_count": 68,
   "id": "ce8eb3bb-4c06-4bcc-909b-15b94d93373f",
   "metadata": {},
   "outputs": [
    {
     "data": {
      "text/plain": [
       "array([[0, 5],\n",
       "       [1, 6],\n",
       "       [2, 7],\n",
       "       [3, 8],\n",
       "       [4, 9]])"
      ]
     },
     "execution_count": 68,
     "metadata": {},
     "output_type": "execute_result"
    }
   ],
   "source": [
    "m1.T"
   ]
  },
  {
   "cell_type": "code",
   "execution_count": 69,
   "id": "322e8568-86f2-4a2b-8fed-bff751a7d061",
   "metadata": {},
   "outputs": [
    {
     "data": {
      "text/plain": [
       "array([0, 1, 2, 3, 4])"
      ]
     },
     "execution_count": 69,
     "metadata": {},
     "output_type": "execute_result"
    }
   ],
   "source": [
    "m2=np.arange(5)\n",
    "m2"
   ]
  },
  {
   "cell_type": "code",
   "execution_count": 72,
   "id": "c5d4b0f9-6fdd-49ea-a604-be5a69f4d0ef",
   "metadata": {},
   "outputs": [
    {
     "data": {
      "text/plain": [
       "array([[0, 1, 2, 3, 4],\n",
       "       [5, 6, 7, 8, 9]])"
      ]
     },
     "execution_count": 72,
     "metadata": {},
     "output_type": "execute_result"
    }
   ],
   "source": [
    "n1=np.arange(10).reshape(2,5)\n",
    "n1"
   ]
  },
  {
   "cell_type": "code",
   "execution_count": 73,
   "id": "2951e08b-1feb-422b-b485-3ae643e6e47b",
   "metadata": {},
   "outputs": [
    {
     "data": {
      "text/plain": [
       "array([[ 0,  1,  2],\n",
       "       [ 3,  4,  5],\n",
       "       [ 6,  7,  8],\n",
       "       [ 9, 10, 11],\n",
       "       [12, 13, 14]])"
      ]
     },
     "execution_count": 73,
     "metadata": {},
     "output_type": "execute_result"
    }
   ],
   "source": [
    "n2=np.arange(15).reshape(5,3)\n",
    "n2"
   ]
  },
  {
   "cell_type": "code",
   "execution_count": 74,
   "id": "b1cff9ea-1d11-46d7-92ba-fe7ecd38237a",
   "metadata": {},
   "outputs": [
    {
     "data": {
      "text/plain": [
       "array([[ 90, 100, 110],\n",
       "       [240, 275, 310]])"
      ]
     },
     "execution_count": 74,
     "metadata": {},
     "output_type": "execute_result"
    }
   ],
   "source": [
    "n1.dot(n2)"
   ]
  },
  {
   "cell_type": "code",
   "execution_count": 75,
   "id": "d7cc3c47-810e-4ba1-988f-29574c813907",
   "metadata": {},
   "outputs": [
    {
     "data": {
      "text/plain": [
       "array([[ 1,  2,  3],\n",
       "       [ 5,  7, 11],\n",
       "       [21, 29, 31]])"
      ]
     },
     "execution_count": 75,
     "metadata": {},
     "output_type": "execute_result"
    }
   ],
   "source": [
    "import numpy.linalg as linalg\n",
    "m3=np.array([[1,2,3],[5,7,11],[21,29,31]])\n",
    "m3"
   ]
  },
  {
   "cell_type": "code",
   "execution_count": 77,
   "id": "c44f2f89-75d0-4d60-a375-a4024e027241",
   "metadata": {},
   "outputs": [
    {
     "data": {
      "text/plain": [
       "array([[1, 2],\n",
       "       [3, 1]])"
      ]
     },
     "execution_count": 77,
     "metadata": {},
     "output_type": "execute_result"
    }
   ],
   "source": [
    "m3=np.array([[1,2],[3,1]])\n",
    "m3"
   ]
  },
  {
   "cell_type": "code",
   "execution_count": 78,
   "id": "e2b6ad58-27c3-48c2-a82d-f47d1b79dad0",
   "metadata": {},
   "outputs": [
    {
     "data": {
      "text/plain": [
       "array([[-0.2,  0.4],\n",
       "       [ 0.6, -0.2]])"
      ]
     },
     "execution_count": 78,
     "metadata": {},
     "output_type": "execute_result"
    }
   ],
   "source": [
    "linalg.inv(m3)"
   ]
  },
  {
   "cell_type": "code",
   "execution_count": 79,
   "id": "cba0a589-065b-42c9-9f33-6d2d7977959b",
   "metadata": {},
   "outputs": [
    {
     "data": {
      "text/plain": [
       "array([[-0.2,  0.4],\n",
       "       [ 0.6, -0.2]])"
      ]
     },
     "execution_count": 79,
     "metadata": {},
     "output_type": "execute_result"
    }
   ],
   "source": [
    "linalg.pinv(m3)"
   ]
  },
  {
   "cell_type": "code",
   "execution_count": 80,
   "id": "74eed35f-8e0b-4cbf-8e04-c8f33b60efed",
   "metadata": {},
   "outputs": [
    {
     "data": {
      "text/plain": [
       "array([[1., 0.],\n",
       "       [0., 1.]])"
      ]
     },
     "execution_count": 80,
     "metadata": {},
     "output_type": "execute_result"
    }
   ],
   "source": [
    "m3.dot(linalg.inv(m3))"
   ]
  },
  {
   "cell_type": "code",
   "execution_count": 81,
   "id": "e3beb871-0182-4d75-bd73-88da97aae63a",
   "metadata": {},
   "outputs": [
    {
     "data": {
      "text/plain": [
       "array([[1., 0., 0.],\n",
       "       [0., 1., 0.],\n",
       "       [0., 0., 1.]])"
      ]
     },
     "execution_count": 81,
     "metadata": {},
     "output_type": "execute_result"
    }
   ],
   "source": [
    "np.eye(3)"
   ]
  },
  {
   "cell_type": "code",
   "execution_count": 6,
   "id": "cf6be442-468a-4082-9e06-4eb0e75b766d",
   "metadata": {},
   "outputs": [],
   "source": [
    "import numpy as np\n",
    "m3 = np.array([[1, 2, 3],\n",
    "               [4, 5, 6],\n",
    "               [7, 8, 9]])\n",
    "\n"
   ]
  },
  {
   "cell_type": "code",
   "execution_count": 7,
   "id": "4438141d-141a-43ca-be2a-dc9d11f71477",
   "metadata": {},
   "outputs": [
    {
     "data": {
      "text/plain": [
       "array([ 1.61168440e+01, -1.11684397e+00, -9.75918483e-16])"
      ]
     },
     "execution_count": 7,
     "metadata": {},
     "output_type": "execute_result"
    }
   ],
   "source": [
    "eigenvalues,eigenvectors =np.linalg.eig(m3)\n",
    "eigenvalues"
   ]
  },
  {
   "cell_type": "code",
   "execution_count": 15,
   "id": "2e46e414-e3e3-4b0d-9067-12b750991689",
   "metadata": {},
   "outputs": [
    {
     "name": "stdin",
     "output_type": "stream",
     "text": [
      "Enter your name:  mithu\n"
     ]
    },
    {
     "name": "stdout",
     "output_type": "stream",
     "text": [
      "Hello, mithu!\n"
     ]
    }
   ],
   "source": [
    "def get_name():\n",
    "    name = input(\"Enter your name: \")\n",
    "    print(f\"Hello, {name}!\")\n",
    "get_name()   "
   ]
  },
  {
   "cell_type": "code",
   "execution_count": 9,
   "id": "9aede69b-5312-4dcc-a36a-3d11bcde684b",
   "metadata": {},
   "outputs": [
    {
     "name": "stdout",
     "output_type": "stream",
     "text": [
      "Hello Nithya!\n"
     ]
    }
   ],
   "source": [
    "def say_hello():\n",
    "    print(\"Hello Nithya!\")\n",
    "say_hello()    "
   ]
  },
  {
   "cell_type": "code",
   "execution_count": 18,
   "id": "e914d90b-de7a-4a1e-9ebc-2bdd54fdb53c",
   "metadata": {},
   "outputs": [
    {
     "name": "stdin",
     "output_type": "stream",
     "text": [
      "Enter a number:  5\n"
     ]
    },
    {
     "name": "stdout",
     "output_type": "stream",
     "text": [
      "5! = 5 × 4 × 3 × 2 × 1 = 120\n"
     ]
    }
   ],
   "source": [
    "def factorial(n):\n",
    "    fact = 1\n",
    "    print(f\"{n}! = \", end=\"\")\n",
    "\n",
    "    for i in range(n, 0, -1):\n",
    "        print(i, end=\" × \" if i != 1 else \"\")\n",
    "        fact *= i\n",
    "\n",
    "    print(f\" = {fact}\")\n",
    "\n",
    "\n",
    "\n",
    "num = int(input(\"Enter a number: \"))\n",
    "factorial(num)\n"
   ]
  },
  {
   "cell_type": "code",
   "execution_count": 29,
   "id": "4054e588-d2cc-409e-ad58-aaab9a45e0c4",
   "metadata": {},
   "outputs": [
    {
     "name": "stdin",
     "output_type": "stream",
     "text": [
      "Enter first number:  -3\n",
      "Enter second number:  -17\n"
     ]
    },
    {
     "name": "stdout",
     "output_type": "stream",
     "text": [
      "Result: False\n"
     ]
    }
   ],
   "source": [
    "def check_twenty(a, b):\n",
    "    \n",
    "    if a == 20 or b == 20:\n",
    "        return True\n",
    "    elif a+b==20:\n",
    "        return True\n",
    "    else:\n",
    "        return False\n",
    "\n",
    "\n",
    "a = int(input(\"Enter first number: \"))\n",
    "b = int(input(\"Enter second number: \"))\n",
    "\n",
    "result = check_twenty(a, b)\n",
    "print(\"Result:\",result)\n",
    "\n",
    "    "
   ]
  },
  {
   "cell_type": "code",
   "execution_count": 51,
   "id": "6bfec5ab-4b33-4602-b8bb-964ea3501631",
   "metadata": {},
   "outputs": [
    {
     "name": "stdin",
     "output_type": "stream",
     "text": [
      "Enter a text: nithya\n"
     ]
    },
    {
     "name": "stdout",
     "output_type": "stream",
     "text": [
      "NithyA\n"
     ]
    }
   ],
   "source": [
    "def old_macdonald(name):\n",
    "    if len(name) >= 4:\n",
    "        result = \"\"\n",
    "        for i in range(len(name)):\n",
    "            if i == 0 or i == 5:\n",
    "                result += name[i].upper()\n",
    "            else:\n",
    "                result += name[i]\n",
    "        return result\n",
    "    else:\n",
    "        return name\n",
    "\n",
    "text=input(\"Enter a text:\")\n",
    "print(old_macdonald(text))\n"
   ]
  },
  {
   "cell_type": "code",
   "execution_count": 47,
   "id": "6e476645-4613-49b4-9597-b4b515ca1067",
   "metadata": {},
   "outputs": [
    {
     "name": "stdin",
     "output_type": "stream",
     "text": [
      "Enter a text: nithya\n"
     ]
    },
    {
     "name": "stdout",
     "output_type": "stream",
     "text": [
      "NITHYA\n"
     ]
    }
   ],
   "source": [
    "def old_macdonald(name):\n",
    "    return name.upper()\n",
    "\n",
    "text=input(\"Enter a text:\")\n",
    "print(old_macdonald(text))\n",
    "\n"
   ]
  },
  {
   "cell_type": "code",
   "execution_count": 48,
   "id": "04c35b39-2a26-4a83-a5a4-1a360ff56b0e",
   "metadata": {},
   "outputs": [
    {
     "data": {
      "text/plain": [
       "int"
      ]
     },
     "execution_count": 48,
     "metadata": {},
     "output_type": "execute_result"
    }
   ],
   "source": [
    "type(a)"
   ]
  },
  {
   "cell_type": "code",
   "execution_count": 49,
   "id": "b60483a3-c304-40fb-8e88-90a70d99e546",
   "metadata": {},
   "outputs": [
    {
     "name": "stdout",
     "output_type": "stream",
     "text": [
      "mithya\n"
     ]
    }
   ],
   "source": [
    "def change_name(name):\n",
    "    return name.replace(\"n\", \"m\")\n",
    "\n",
    "print(change_name(\"nithya\"))  \n"
   ]
  }
 ],
 "metadata": {
  "kernelspec": {
   "display_name": "Python [conda env:base] *",
   "language": "python",
   "name": "conda-base-py"
  },
  "language_info": {
   "codemirror_mode": {
    "name": "ipython",
    "version": 3
   },
   "file_extension": ".py",
   "mimetype": "text/x-python",
   "name": "python",
   "nbconvert_exporter": "python",
   "pygments_lexer": "ipython3",
   "version": "3.13.5"
  }
 },
 "nbformat": 4,
 "nbformat_minor": 5
}
